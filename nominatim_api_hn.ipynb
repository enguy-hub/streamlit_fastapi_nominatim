{
  "cells": [
    {
      "cell_type": "markdown",
      "metadata": {},
      "source": [
        "# NOMINATIM API"
      ]
    },
    {
      "cell_type": "code",
      "execution_count": 81,
      "metadata": {},
      "outputs": [],
      "source": [
        "# Source: https://gist.github.com/adrianespejo/5df28ce987db64ba753619502ee3d812\n",
        "\n",
        "from typing import Literal\n",
        "import geopandas as gpd\n",
        "\n",
        "NOMINATIM_API_URL = \"https://nominatim.openstreetmap.org\"\n",
        "NOMINATIM_SEARCH_ENDPOINT = f\"{NOMINATIM_API_URL}/search\""
      ]
    },
    {
      "cell_type": "code",
      "execution_count": 82,
      "metadata": {},
      "outputs": [],
      "source": [
        "allowed_country_codes = Literal[\n",
        "    'AD', 'AE', 'AF', 'AG', 'AI', 'AL', 'AM', 'AO', 'AQ', 'AR', 'AS', 'AT', 'AU', 'AW', 'AX', 'AZ', \n",
        "    'BA', 'BB', 'BD', 'BE', 'BF', 'BG', 'BH', 'BI', 'BJ', 'BL', 'BM', 'BN', 'BO', 'BQ', 'BR', 'BS', \n",
        "    'BT', 'BV', 'BW', 'BY', 'BZ', 'CA', 'CC', 'CD', 'CF', 'CG', 'CH', 'CI', 'CK', 'CL', 'CM', 'CN', \n",
        "    'CO', 'CR', 'CU', 'CV', 'CW', 'CX', 'CY', 'CZ', 'DE', 'DJ', 'DK', 'DM', 'DO', 'DZ', 'EC', 'EE', \n",
        "    'EG', 'EH', 'ER', 'ES', 'ET', 'FI', 'FJ', 'FK', 'FM', 'FO', 'FR', 'GA', 'GB', 'GD', 'GE', 'GF', \n",
        "    'GG', 'GH', 'GI', 'GL', 'GM', 'GN', 'GP', 'GQ', 'GR', 'GS', 'GT', 'GU', 'GW', 'GY', 'HK', 'HM', \n",
        "    'HN', 'HR', 'HT', 'HU', 'ID', 'IE', 'IL', 'IM', 'IN', 'IO', 'IQ', 'IR', 'IS', 'IT', 'JE', 'JM', \n",
        "    'JO', 'JP', 'KE', 'KG', 'KH', 'KI', 'KM', 'KN', 'KP', 'KR', 'KW', 'KY', 'KZ', 'LA', 'LB', 'LC', \n",
        "    'LI', 'LK', 'LR', 'LS', 'LT', 'LU', 'LV', 'LY', 'MA', 'MC', 'MD', 'ME', 'MF', 'MG', 'MH', 'MK', \n",
        "    'ML', 'MM', 'MN', 'MO', 'MP', 'MQ', 'MR', 'MS', 'MT', 'MU', 'MV', 'MW', 'MX', 'MY', 'MZ', 'NA', \n",
        "    'NC', 'NE', 'NF', 'NG', 'NI', 'NL', 'NO', 'NP', 'NR', 'NU', 'NZ', 'OM', 'PA', 'PE', 'PF', 'PG', \n",
        "    'PH', 'PK', 'PL', 'PM', 'PN', 'PR', 'PS', 'PT', 'PW', 'PY', 'QA', 'RE', 'RO', 'RS', 'RU', 'RW', \n",
        "    'SA', 'SB', 'SC', 'SD', 'SE', 'SG', 'SH', 'SI', 'SJ', 'SK', 'SL', 'SM', 'SN', 'SO', 'SR', 'ST', \n",
        "    'SS', 'SV', 'SX', 'SY', 'SZ', 'TC', 'TD', 'TF', 'TG', 'TH', 'TJ', 'TK', 'TL', 'TM', 'TN', 'TO', \n",
        "    'TR', 'TT', 'TV', 'TW', 'TZ', 'UA', 'UG', 'UM', 'US', 'UY', 'UZ', 'VA', 'VC', 'VE', 'VG', 'VI', \n",
        "    'VN', 'VU', 'WF', 'WS', 'XK', 'YE', 'YT', 'ZA', 'ZM', 'ZW'\n",
        "]\n",
        "\n",
        "# Fetch OSM data from Nominatim API\n",
        "def fetch_osm_country_boundary(\n",
        "    query_country_code: allowed_country_codes = \"BJ\",\n",
        "):\n",
        "    \n",
        "    params = {\n",
        "        \"namedetails\": 1,\n",
        "        \"polygon_geojson\": 1,\n",
        "        \"hierarchy\": 1,\n",
        "        \"addresstype\": \"country\",\n",
        "    }\n",
        "\n",
        "    params_query = \"&\".join(\n",
        "        f\"{param_name}={param_value}\" for param_name, param_value in params.items()\n",
        "    )\n",
        "\n",
        "    request_url = f\"{NOMINATIM_SEARCH_ENDPOINT}?q={query_country_code}&featureType=country&{params_query}&format=geojson\"\n",
        "    return request_url\n",
        "\n",
        "# Convert the queried url to a GeoDataFrame\n",
        "def convert_osm_url_to_gdf(request_url):\n",
        "    gdf = gpd.read_file(request_url)\n",
        "    return gdf"
      ]
    },
    {
      "cell_type": "code",
      "execution_count": 83,
      "metadata": {},
      "outputs": [
        {
          "name": "stdout",
          "output_type": "stream",
          "text": [
            "    place_id  osm_type   osm_id  place_rank  category            type  \\\n",
            "0  254617278  relation  2067731           4  boundary  administrative   \n",
            "\n",
            "   importance addresstype       name display_name  \\\n",
            "0    0.762627     country  ประเทศไทย    ประเทศไทย   \n",
            "\n",
            "                                         namedetails  \\\n",
            "0  {'name': 'ประเทศไทย', 'name:af': 'Thailand', '...   \n",
            "\n",
            "                                            geometry  \n",
            "0  POLYGON ((97.34381 18.57614, 97.34393 18.56956...  \n"
          ]
        }
      ],
      "source": [
        "# get the noninatim url\n",
        "query_url = fetch_osm_country_boundary(\"Thailand\")\n",
        "\n",
        "# test the query_result function\n",
        "country_boundary = convert_osm_url_to_gdf(query_url)\n",
        "print(country_boundary)"
      ]
    },
    {
      "cell_type": "code",
      "execution_count": 80,
      "metadata": {},
      "outputs": [
        {
          "name": "stdout",
          "output_type": "stream",
          "text": [
            "[ 97.3438072   5.612851  105.636812   20.4648337]\n"
          ]
        }
      ],
      "source": [
        "# check extend\n",
        "country_extend = country_boundary.total_bounds\n",
        "print(country_extend)"
      ]
    }
  ],
  "metadata": {
    "kernelspec": {
      "display_name": "geoenv",
      "language": "python",
      "name": "python3"
    },
    "language_info": {
      "codemirror_mode": {
        "name": "ipython",
        "version": 3
      },
      "file_extension": ".py",
      "mimetype": "text/x-python",
      "name": "python",
      "nbconvert_exporter": "python",
      "pygments_lexer": "ipython3",
      "version": "3.10.13"
    }
  },
  "nbformat": 4,
  "nbformat_minor": 2
}
